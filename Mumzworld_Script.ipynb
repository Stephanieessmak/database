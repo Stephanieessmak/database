{
  "nbformat": 4,
  "nbformat_minor": 0,
  "metadata": {
    "colab": {
      "provenance": [],
      "authorship_tag": "ABX9TyOi7BkmUQnPx5ElKfX4XKCQ",
      "include_colab_link": true
    },
    "kernelspec": {
      "name": "python3",
      "display_name": "Python 3"
    },
    "language_info": {
      "name": "python"
    }
  },
  "cells": [
    {
      "cell_type": "markdown",
      "metadata": {
        "id": "view-in-github",
        "colab_type": "text"
      },
      "source": [
        "<a href=\"https://colab.research.google.com/github/Stephanieessmak/database/blob/main/Mumzworld_Script.ipynb\" target=\"_parent\"><img src=\"https://colab.research.google.com/assets/colab-badge.svg\" alt=\"Open In Colab\"/></a>"
      ]
    },
    {
      "cell_type": "code",
      "source": [
        "# import libraries\n",
        "import pandas as pd\n",
        "import numpy as np\n",
        "from datetime import datetime\n",
        "\n",
        "import gspread\n",
        "from gspread_dataframe import set_with_dataframe\n",
        "\n",
        "from google.oauth2.service_account import Credentials\n",
        "from pydrive.auth import GoogleAuth\n",
        "from pydrive.drive import GoogleDrive\n",
        "from itertools import repeat\n",
        "import warnings\n",
        "from google.colab import drive\n",
        "drive.mount('/content/drive')\n",
        "warnings.filterwarnings('ignore')\n",
        "pd.set_option('display.max_columns', None)"
      ],
      "metadata": {
        "id": "RRRHIoMAJUMx",
        "colab": {
          "base_uri": "https://localhost:8080/"
        },
        "outputId": "8f05a5bc-da1d-4136-f4c8-4af789c96aca"
      },
      "execution_count": null,
      "outputs": [
        {
          "output_type": "stream",
          "name": "stdout",
          "text": [
            "Mounted at /content/drive\n"
          ]
        }
      ]
    },
    {
      "cell_type": "code",
      "source": [
        "scopes = ['https://www.googleapis.com/auth/spreadsheets', 'https://www.googleapis.com/auth/drive']\n",
        "json = '/content/drive/MyDrive/Essmak Data Work/Requirements/Credentials.json'\n",
        "credentials = Credentials.from_service_account_file(json, scopes=scopes)\n",
        "\n",
        "gc = gspread.authorize(credentials)\n",
        "\n",
        "gauth = GoogleAuth() \n",
        "drive = GoogleDrive(gauth) \n",
        "\n",
        "# data = pd.read_csv('/content/drive/MyDrive/Essmak Data Work/CRM /order-data_2023-03-11.csv')\n",
        "df = gc.open_by_url(\"https://docs.google.com/spreadsheets/d/1durdZwaOeXVA1AeYYwUTeg2Y6BPgyaWJhzWhl8RAn4E/edit#gid=0\")\n",
        "AED = df.worksheet('AED To USD')\n",
        "AED=pd.DataFrame(AED.get_all_records())                                                                     \n",
        "\n",
        "df = gc.open_by_url(\"https://docs.google.com/spreadsheets/d/1jdCfmvWAuRnyPVfR7lx38-jXKNeSOno-vmKnU1fjhk4/edit#gid=497917819\")\n",
        "sku = df.worksheet('Combined SKU Details')\n",
        "sku=pd.DataFrame(sku.get_all_records()) \n",
        "\n",
        "\n",
        "# reading cost sheet data\n",
        "cp = gc.open_by_url('https://docs.google.com/spreadsheets/d/18wCjME5w01pB3TTIXcQaq1KnrtiTORrqkUHiNIzycZk/edit#gid=227041125')\n",
        "cp = cp.worksheet('Cost Sheet')\n",
        "cp =pd.DataFrame(cp.get_all_records())\n",
        "ff = gc.open_by_url('https://docs.google.com/spreadsheets/d/18wCjME5w01pB3TTIXcQaq1KnrtiTORrqkUHiNIzycZk/edit#gid=227041125')\n",
        "ff = ff.worksheet('Franchise Fee') \n",
        "ff =pd.DataFrame(ff.get_all_records())\n",
        "\n",
        "df2 = pd.read_excel(\"/content/drive/MyDrive/Essmak Data Work/MumzWorld/Mumzworld.xlsx\", sheet_name='Essmak')\n"
      ],
      "metadata": {
        "id": "RvcuOzCi8KZT"
      },
      "execution_count": null,
      "outputs": []
    },
    {
      "cell_type": "code",
      "source": [
        "ff=ff.loc[ff['Platform']=='Mumzworld']"
      ],
      "metadata": {
        "id": "Aly9xpUiRU9d"
      },
      "execution_count": null,
      "outputs": []
    },
    {
      "cell_type": "code",
      "source": [
        "df2['Date'] = pd.to_datetime(df2['Date'])\n",
        "df2['day'] = df2['Date'].dt.day \n",
        "df2['month'] = df2['Date'].dt.month\n",
        "df2['year'] = df2['Date'].dt.year"
      ],
      "metadata": {
        "id": "e-d71ZeG_ncy"
      },
      "execution_count": null,
      "outputs": []
    },
    {
      "cell_type": "code",
      "source": [
        "AED['Date'] = pd.to_datetime(AED['Date'])\n",
        "AED['day'] = AED['Date'].dt.day\n",
        "AED['month'] = AED['Date'].dt.month\n",
        "AED['year'] = AED['Date'].dt.year"
      ],
      "metadata": {
        "id": "1Z0g21fjBVeh"
      },
      "execution_count": null,
      "outputs": []
    },
    {
      "cell_type": "code",
      "source": [
        "result1 = pd.merge(df2, AED, left_on= ['day', 'month', 'year'], right_on = ['day', 'month', 'year'], how= 'left')"
      ],
      "metadata": {
        "id": "LT7CZhUxBVbH"
      },
      "execution_count": null,
      "outputs": []
    },
    {
      "cell_type": "code",
      "source": [
        "result1['platform'] = 'Mumzworld'"
      ],
      "metadata": {
        "id": "XyEdwH9OAYuz"
      },
      "execution_count": null,
      "outputs": []
    },
    {
      "cell_type": "code",
      "source": [
        "result1['Total USD']=result1['PO Amount']*result1['Close']\n",
        "result1=result1.drop(['Close'], axis=1)\n",
        "result1\n",
        "\n",
        "result1[\"Country\"] = \"United Arab Emirates\"\n",
        "\n",
        "index_of_last_A = int(len(result1) * 0.6)\n",
        "\n",
        "for i, row in result1.iterrows():\n",
        "    if i <= index_of_last_A:\n",
        "        result1.at[i, \"Country\"] = \"Saudi Arabia\"\n",
        "\n",
        "result1=result1.drop(['Cost Price'], axis=1)"
      ],
      "metadata": {
        "id": "NSi8RTgWBVUL"
      },
      "execution_count": null,
      "outputs": []
    },
    {
      "cell_type": "code",
      "source": [
        "result1= result1.merge(sku, how='left', left_on = \"Vendor SKU\" , right_on = \"Product SKU\")\n",
        "# result1['Date'] = pd.to_datetime(result1['Date'])\n",
        "cp['Date'] = pd.to_datetime(cp['Date'])\n",
        "cp['Product'] = cp['Product'].apply(lambda x: x.title().lower())\n",
        "result1['Product_Category'] = result1['Product_Category'].apply(lambda x: x.title().lower() if isinstance(x, str) else x)\n",
        "# result1= pd.merge(result1, cp, how='left', left_on = [\"Date\", \"Product_Category_2\"] , right_on = [\"Date\", \"Product\"]) \n",
        "\n",
        "result1= pd.merge(result1, cp, how='left', left_on = ['Product_Category','day', 'month', 'year'] , right_on = [\"Product\", 'day', 'month', 'year'])\n",
        "result1= pd.merge(result1, ff, how='left', left_on = \"year\" , right_on = \"Year\") "
      ],
      "metadata": {
        "id": "70nWe8F_dzo5"
      },
      "execution_count": null,
      "outputs": []
    },
    {
      "cell_type": "code",
      "source": [
        "result1['Franchise fees'] = result1['Franchise fees'].str.replace('%', '').astype(float)\n",
        "result1['Franchise fees_2'] = result1['Franchise fees'] / 100\n",
        "result1['Franchise_amount'] = result1['Total USD'] * result1['Franchise fees_2']\n",
        "df = pd.DataFrame(result1)\n",
        "df['Total Cost'] = np.where(df['Cost Price'].isnull(), np.nan, df['Cost Price'] + df['Franchise_amount'])\n",
        "df['Profit'] = np.where(df['Cost Price'].isnull(), np.nan, df['Total USD'] - df['Total Cost'])\n",
        "df=df.drop(['Date','Date_y','UPC Code', 'Platform'], axis=1) \n",
        "df = df.rename(columns={'Date_x': 'Date', 'Franchise fees':'Franchise fees_percent', 'Franchise fees_2':'Franchise fees_2_percent'}) "
      ],
      "metadata": {
        "id": "ubCoCmD73rCh"
      },
      "execution_count": null,
      "outputs": []
    },
    {
      "cell_type": "code",
      "source": [],
      "metadata": {
        "id": "lMCpDVkQnkF1"
      },
      "execution_count": null,
      "outputs": []
    },
    {
      "cell_type": "code",
      "source": [
        "df['Flag'] = False \n",
        "df.loc[df['Vendor SKU'].isin(['BL-Nintendo-3631', 'BL-Mermaid-3655', 'BL-Dino-3594', 'BL-Animals-3662', 'BL-Princess-3679', 'BL-Cars-3624', 'BL-Presents-3617', 'BL-Surfer-3600', \n",
        "                         'BL-Unicorn-3648', 'BL-Donuts-3686'],), 'Flag'] = True\n",
        "df = df[df['Flag'] == False]\n",
        "df = df.drop('Flag', axis=1) "
      ],
      "metadata": {
        "id": "vVdFCqRennku"
      },
      "execution_count": null,
      "outputs": []
    },
    {
      "cell_type": "code",
      "source": [
        "gs = gc.open_by_url('https://docs.google.com/spreadsheets/d/1I8NdsQyAWgI7p237Hj7OsBou56IA1wYUHrXvuOFRj6M/edit#gid=67394343')\n",
        "worksheet2 = gs.worksheet('Mumzworld')\n",
        "worksheet2.clear()\n",
        "set_with_dataframe(worksheet=worksheet2, dataframe=df, include_index=False,include_column_header=True, resize=True)"
      ],
      "metadata": {
        "id": "H2xa_TvmlzsH"
      },
      "execution_count": null,
      "outputs": []
    }
  ]
}