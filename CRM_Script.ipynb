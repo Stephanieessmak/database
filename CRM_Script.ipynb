{
  "cells": [
    {
      "cell_type": "markdown",
      "metadata": {
        "id": "view-in-github",
        "colab_type": "text"
      },
      "source": [
        "<a href=\"https://colab.research.google.com/github/Stephanieessmak/database/blob/main/CRM_Script.ipynb\" target=\"_parent\"><img src=\"https://colab.research.google.com/assets/colab-badge.svg\" alt=\"Open In Colab\"/></a>"
      ]
    },
    {
      "cell_type": "code",
      "execution_count": null,
      "metadata": {
        "id": "F4sO8TS4gtrX",
        "colab": {
          "base_uri": "https://localhost:8080/"
        },
        "outputId": "e20d80c3-403a-45e0-c2eb-2928068b4b43"
      },
      "outputs": [
        {
          "output_type": "stream",
          "name": "stdout",
          "text": [
            "Mounted at /content/drive\n"
          ]
        }
      ],
      "source": [
        "# import libraries\n",
        "import pandas as pd\n",
        "import numpy as np\n",
        "from pathlib import Path\n",
        "import datetime\n",
        "import io\n",
        "import os\n",
        "\n",
        "import gspread\n",
        "from gspread_dataframe import set_with_dataframe\n",
        "\n",
        "from google.oauth2.service_account import Credentials\n",
        "from pydrive.auth import GoogleAuth\n",
        "from pydrive.drive import GoogleDrive\n",
        "from itertools import repeat\n",
        "import warnings\n",
        "from google.colab import drive\n",
        "drive.mount('/content/drive')\n",
        "warnings.filterwarnings('ignore')\n",
        "pd.set_option('display.max_columns', None) "
      ]
    },
    {
      "cell_type": "code",
      "execution_count": null,
      "metadata": {
        "id": "UrQxPJbQg08h"
      },
      "outputs": [],
      "source": [
        "directory = '/content/drive/MyDrive/Essmak Data Work/CRM/'\n",
        "\n",
        "df_list = []\n",
        "\n",
        "for filename in os.listdir(directory):\n",
        "    if filename.endswith('.csv'):\n",
        "        filepath = os.path.join(directory, filename)\n",
        "        df = pd.read_csv(filepath)\n",
        "        df['filename']=filename\n",
        "        df_list.append(df)\n",
        "\n",
        "data = pd.concat(df_list, axis=0, ignore_index=True)\n",
        "\n",
        "scopes = ['https://www.googleapis.com/auth/spreadsheets', 'https://www.googleapis.com/auth/drive']\n",
        "json = '/content/drive/MyDrive/Essmak Data Work/Requirements/Credentials.json'\n",
        "credentials = Credentials.from_service_account_file(json, scopes=scopes)\n",
        "\n",
        "gc = gspread.authorize(credentials)\n",
        "\n",
        "gauth = GoogleAuth()\n",
        "drive = GoogleDrive(gauth) \n",
        "\n",
        "# data = pd.read_csv('/content/drive/MyDrive/Essmak Data Work/CRM /order-data_2023-03-11.csv')\n",
        "df = gc.open_by_url(\"https://docs.google.com/spreadsheets/d/1durdZwaOeXVA1AeYYwUTeg2Y6BPgyaWJhzWhl8RAn4E/edit#gid=0\")\n",
        "AED = df.worksheet('AED To USD')\n",
        "AED=pd.DataFrame(AED.get_all_records()) \n",
        "\n",
        "SAR = df.worksheet('SAR To USD')\n",
        "SAR=pd.DataFrame(SAR.get_all_records())\n",
        "\n",
        "BHD = df.worksheet('BHD to USD')\n",
        "BHD=pd.DataFrame(BHD.get_all_records())\n",
        "\n",
        "LBP = df.worksheet('LBP to USD')\n",
        "LBP=pd.DataFrame(LBP.get_all_records())\n",
        "\n",
        "QAR = df.worksheet('QAR to USD')\n",
        "QAR=pd.DataFrame(QAR.get_all_records())\n",
        "\n",
        "KWD = df.worksheet('KWD to USD')\n",
        "KWD=pd.DataFrame(KWD.get_all_records())\n",
        "\n",
        "OMR = df.worksheet('OMR to USD')\n",
        "OMR=pd.DataFrame(OMR.get_all_records())\n",
        "\n",
        "EGP = df.worksheet('EGP to USD')\n",
        "EGP=pd.DataFrame(EGP.get_all_records())\n",
        "\n",
        "JOD = df.worksheet('JOD to USD')\n",
        "JOD=pd.DataFrame(JOD.get_all_records())\n",
        "\n",
        "df = gc.open_by_url(\"https://docs.google.com/spreadsheets/d/1jdCfmvWAuRnyPVfR7lx38-jXKNeSOno-vmKnU1fjhk4/edit#gid=497917819\")\n",
        "sku = df.worksheet('Combined SKU Details')\n",
        "sku=pd.DataFrame(sku.get_all_records()) \n",
        "\n",
        "# reading cost sheet data\n",
        "cp = gc.open_by_url('https://docs.google.com/spreadsheets/d/18wCjME5w01pB3TTIXcQaq1KnrtiTORrqkUHiNIzycZk/edit#gid=227041125')\n",
        "cp = cp.worksheet('Cost Sheet')\n",
        "cp =pd.DataFrame(cp.get_all_records())\n",
        "ff = gc.open_by_url('https://docs.google.com/spreadsheets/d/18wCjME5w01pB3TTIXcQaq1KnrtiTORrqkUHiNIzycZk/edit#gid=227041125')\n",
        "ff = ff.worksheet('Franchise Fee') \n",
        "ff =pd.DataFrame(ff.get_all_records())"
      ]
    },
    {
      "cell_type": "code",
      "source": [
        "ff=ff.loc[ff['Platform']=='CRM']"
      ],
      "metadata": {
        "id": "8MXQBFvfNYtH"
      },
      "execution_count": null,
      "outputs": []
    },
    {
      "cell_type": "code",
      "source": [
        "# using\n",
        "data[['day', 'month', 'year']] = data['Order Date'].str.split('/', expand=True).astype(int).rename(columns={0:'day', 1:'month', 2:'year'})\n",
        "data['date'] = pd.to_datetime(data[['year', 'month', 'day']].astype(str).agg('-'.join, axis=1))"
      ],
      "metadata": {
        "id": "Eyza3imWIX_u"
      },
      "execution_count": null,
      "outputs": []
    },
    {
      "cell_type": "code",
      "source": [
        "data= pd.merge(data, sku, how='left', left_on = \"SKU Name\" , right_on = \"Product SKU\")"
      ],
      "metadata": {
        "id": "-5paps4AlSLp"
      },
      "execution_count": null,
      "outputs": []
    },
    {
      "cell_type": "code",
      "source": [
        "AED['Date']=AED['Date'].astype(str)\n",
        "AED['Date']=AED['Date'].apply(lambda x: x.split(' ')[0])\n",
        "AED['Date'] = pd.to_datetime(AED['Date'])\n",
        "AED['Date'] = AED['Date'].dt.strftime('%d-%m-%Y')\n",
        "\n",
        "SAR['Date']=SAR['Date'].astype(str)\n",
        "SAR['Date']=SAR['Date'].apply(lambda x: x.split(' ')[0])\n",
        "SAR['Date'] = pd.to_datetime(SAR['Date'])\n",
        "SAR['Date'] = SAR['Date'].dt.strftime('%d-%m-%Y')\n",
        "\n",
        "LBP['Date']=LBP['Date'].astype(str)\n",
        "LBP['Date']=LBP['Date'].apply(lambda x: x.split(' ')[0])\n",
        "LBP['Date'] = pd.to_datetime(LBP['Date'])\n",
        "LBP['Date'] = LBP['Date'].dt.strftime('%d-%m-%Y')\n",
        "\n",
        "QAR['Date']=QAR['Date'].astype(str)\n",
        "QAR['Date']=QAR['Date'].apply(lambda x: x.split(' ')[0])\n",
        "QAR['Date'] = pd.to_datetime(QAR['Date'])\n",
        "QAR['Date'] = QAR['Date'].dt.strftime('%d-%m-%Y')\n",
        "\n",
        "KWD['Date']=KWD['Date'].astype(str)\n",
        "KWD['Date']=KWD['Date'].apply(lambda x: x.split(' ')[0])\n",
        "KWD['Date'] = pd.to_datetime(KWD['Date'])\n",
        "KWD['Date'] = KWD['Date'].dt.strftime('%d-%m-%Y')\n",
        "\n",
        "OMR['Date']=OMR['Date'].astype(str)\n",
        "OMR['Date']=OMR['Date'].apply(lambda x: x.split(' ')[0])\n",
        "OMR['Date'] = pd.to_datetime(OMR['Date'])\n",
        "OMR['Date'] = OMR['Date'].dt.strftime('%d-%m-%Y')\n",
        "\n",
        "EGP['Date']=EGP['Date'].astype(str)\n",
        "EGP['Date']=EGP['Date'].apply(lambda x: x.split(' ')[0])\n",
        "EGP['Date'] = pd.to_datetime(EGP['Date'])\n",
        "EGP['Date'] = EGP['Date'].dt.strftime('%d-%m-%Y')\n",
        "\n",
        "JOD['Date']=JOD['Date'].astype(str)\n",
        "JOD['Date']=JOD['Date'].apply(lambda x: x.split(' ')[0])\n",
        "JOD['Date'] = pd.to_datetime(JOD['Date'])\n",
        "JOD['Date'] = JOD['Date'].dt.strftime('%d-%m-%Y')\n",
        "\n",
        "BHD['Date']=BHD['Date'].astype(str)\n",
        "BHD['Date']=BHD['Date'].apply(lambda x: x.split(' ')[0])\n",
        "BHD['Date'] = pd.to_datetime(BHD['Date'])\n",
        "BHD['Date'] = BHD['Date'].dt.strftime('%d-%m-%Y')\n",
        "\n",
        "data['Currency'] = data['Total'].str.extract(r'\\s*([a-zA-Z]+)')\n",
        "data['Total'] = data['Total'].str.extract(r'(\\d+)')\n",
        "data['Unit Price'] = data['Unit Price'].str.extract(r'(\\d+)')\n",
        "data['Discount'] = data['Discount'].str.extract(r'(\\d+)')\n",
        "data['Shipping USD'] = data['Shipping USD'].str.extract(r'(\\d+)')\n",
        "\n",
        "\n",
        "AED[['day', 'month', 'year']] = AED['Date'].str.split('-', expand=True).astype(int).rename(columns={0:'day', 1:'month', 2:'year'})\n",
        "BHD[['day', 'month', 'year']] = BHD['Date'].str.split('-', expand=True).astype(int).rename(columns={0:'day', 1:'month', 2:'year'})\n",
        "JOD[['day', 'month', 'year']] = JOD['Date'].str.split('-', expand=True).astype(int).rename(columns={0:'day', 1:'month', 2:'year'})\n",
        "EGP[['day', 'month', 'year']] = EGP['Date'].str.split('-', expand=True).astype(int).rename(columns={0:'day', 1:'month', 2:'year'})\n",
        "OMR[['day', 'month', 'year']] = OMR['Date'].str.split('-', expand=True).astype(int).rename(columns={0:'day', 1:'month', 2:'year'})\n",
        "KWD[['day', 'month', 'year']] = KWD['Date'].str.split('-', expand=True).astype(int).rename(columns={0:'day', 1:'month', 2:'year'})\n",
        "QAR[['day', 'month', 'year']] = QAR['Date'].str.split('-', expand=True).astype(int).rename(columns={0:'day', 1:'month', 2:'year'})\n",
        "LBP[['day', 'month', 'year']] = LBP['Date'].str.split('-', expand=True).astype(int).rename(columns={0:'day', 1:'month', 2:'year'})\n",
        "SAR[['day', 'month', 'year']] = SAR['Date'].str.split('-', expand=True).astype(int).rename(columns={0:'day', 1:'month', 2:'year'})\n",
        "\n"
      ],
      "metadata": {
        "id": "zTcRExZhuV1F"
      },
      "execution_count": null,
      "outputs": []
    },
    {
      "cell_type": "code",
      "source": [
        "# data= pd.merge(data, cp, how='left', left_on = ['Product_Category',['year','month' ,'day']] , right_on = [\"Product\",['year','month' ,'day']])\n",
        "\n",
        "\n",
        "data = data.merge(AED,left_on= ['year','month' ,'day'], right_on = ['year','month' ,'day'], how= 'left')\n",
        "data = data.rename(columns={'Close': 'AED'})\n",
        "\n",
        "data = data.merge(SAR,left_on= ['year','month' ,'day'],right_on = ['year','month' ,'day'],how= 'left')\n",
        "data = data.rename(columns={'Close': 'SAR'})\n",
        "\n",
        "data = data.merge(LBP,left_on= ['year','month' ,'day'],right_on = ['year','month' ,'day'],how= 'left')\n",
        "data = data.rename(columns={'Close': 'LBP'})\n",
        "\n",
        "data = data.merge(KWD,left_on= ['year','month' ,'day'],right_on = ['year','month' ,'day'],how= 'left')\n",
        "data = data.rename(columns={'Close': 'KWD'})\n",
        "\n",
        "data = data.merge(OMR,left_on= ['year','month' ,'day'],right_on = ['year','month' ,'day'],how= 'left')\n",
        "data = data.rename(columns={'Close': 'OMR'})\n",
        "\n",
        "data = data.merge(EGP,left_on= ['year','month' ,'day'],right_on = ['year','month' ,'day'],how= 'left')\n",
        "data = data.rename(columns={'Close': 'EGP'})\n",
        "\n",
        "data = data.merge(JOD,left_on= ['year','month' ,'day'],right_on = ['year','month' ,'day'],how= 'left')\n",
        "data = data.rename(columns={'Close': 'JOD'})\n",
        "\n",
        "data = data.merge(BHD,left_on= ['year','month' ,'day'],right_on = ['year','month' ,'day'],how= 'left')\n",
        "data = data.rename(columns={'Close': 'BHD'})\n",
        "\n",
        "data = data.merge(QAR,left_on= ['year','month' ,'day'],right_on = ['year','month' ,'day'],how= 'left')\n",
        "data = data.rename(columns={'Close': 'QAR'})"
      ],
      "metadata": {
        "id": "y0ihxoOAuVwT"
      },
      "execution_count": null,
      "outputs": []
    },
    {
      "cell_type": "code",
      "source": [
        "def curr_conversion(column:str):\n",
        "    data['Currency']=data['Currency'].astype(str)\n",
        "    data['AED']=data['AED'].astype(float)\n",
        "    data['SAR']=data['SAR'].astype(float)\n",
        "    data['QAR']=data['QAR'].astype(float)\n",
        "    data['BHD']=data['BHD'].astype(float)\n",
        "    data['JOD']=data['JOD'].astype(float)\n",
        "    data['OMR']=data['OMR'].astype(float)\n",
        "    data['EGP']=data['EGP'].astype(float)\n",
        "    data['KWD']=data['KWD'].astype(float) \n",
        "    data['LBP']=data['LBP'].astype(float)\n",
        "    data[column]=data[column].astype(float)\n",
        "    curr=data['Currency'].to_list()\n",
        "    Total_amount = data[column].to_list() \n",
        "    AED=data['AED'].to_list()\n",
        "    SAR=data['SAR'].to_list()\n",
        "    QAR=data['QAR'].to_list() \n",
        "    BHD=data['BHD'].to_list()\n",
        "    JOD=data['JOD'].to_list()\n",
        "    OMR=data['OMR'].to_list()\n",
        "    EGP=data['EGP'].to_list()\n",
        "    KWD=data['KWD'].to_list()\n",
        "    LBP=data['LBP'].to_list()\n",
        "    converted= []\n",
        "    cu=[]\n",
        "    for i in range(len(curr)):\n",
        "        if curr[i] == 'AED':\n",
        "            converted.append(Total_amount[i] * AED[i])\n",
        "            cu.append(curr[i])\n",
        "        elif curr[i] == 'SAR':\n",
        "            converted.append(Total_amount[i] * SAR[i])\n",
        "            cu.append(curr[i])\n",
        "        elif curr[i] == 'QAR':\n",
        "            converted.append(Total_amount[i] * QAR[i])\n",
        "            cu.append(curr[i])\n",
        "        elif curr[i] == 'BHD':\n",
        "            converted.append(Total_amount[i] * BHD[i])\n",
        "            cu.append(curr[i])\n",
        "        elif curr[i] == 'JOD':\n",
        "            converted.append(Total_amount[i] * JOD[i])\n",
        "            cu.append(curr[i])\n",
        "        elif curr[i] == 'OMR':\n",
        "            converted.append(Total_amount[i] * OMR[i])\n",
        "            cu.append(curr[i])\n",
        "        elif curr[i] == 'EGP':\n",
        "            converted.append(Total_amount[i] * EGP[i])\n",
        "            cu.append(curr[i])\n",
        "        elif curr[i] == 'KWD':\n",
        "            converted.append(Total_amount[i] * KWD[i])\n",
        "            cu.append(curr[i])\n",
        "        elif curr[i] == 'LBP':\n",
        "            converted.append(Total_amount[i] * LBP[i])\n",
        "            cu.append(curr[i])\n",
        "        elif curr[i] == 'US':\n",
        "            converted.append(Total_amount[i])\n",
        "            cu.append(curr[i])\n",
        "        else:\n",
        "            converted.append('Null')\n",
        "            cu.append(curr[i])\n",
        "    data[column] = converted "
      ],
      "metadata": {
        "id": "IeWP1V27uVtc"
      },
      "execution_count": null,
      "outputs": []
    },
    {
      "cell_type": "code",
      "source": [
        "curr_conversion('Total')\n",
        "curr_conversion('Unit Price')\n",
        "curr_conversion('Shipping USD')\n",
        "curr_conversion('Discount')"
      ],
      "metadata": {
        "id": "aZH2geYvuVqm"
      },
      "execution_count": null,
      "outputs": []
    },
    {
      "cell_type": "code",
      "source": [
        "# data['Order Date'] = pd.to_datetime(data['Order Date'])\n",
        "# cp['Date'] = pd.to_datetime(cp['Date'])\n",
        "cp['Product'] = cp['Product'].apply(lambda x: x.title().lower())\n",
        "data['Product_Category'] = data['Product_Category'].apply(lambda x: x.title().lower() if isinstance(x, str) else x)"
      ],
      "metadata": {
        "id": "seMesnoLmZba"
      },
      "execution_count": null,
      "outputs": []
    },
    {
      "cell_type": "code",
      "source": [
        "# cp['Date'] = pd.to_datetime(cp['Date'], format='%m-%d-%Y').dt.strftime('%d-%m-%Y')"
      ],
      "metadata": {
        "id": "dyLR9Z6Q92yh"
      },
      "execution_count": null,
      "outputs": []
    },
    {
      "cell_type": "code",
      "source": [
        "data= pd.merge(data, cp, how='left', left_on = ['Product_Category','day', 'month', 'year'] , right_on = [\"Product\",'day', 'month', 'year'])"
      ],
      "metadata": {
        "id": "2-smgiytEj_x"
      },
      "execution_count": null,
      "outputs": []
    },
    {
      "cell_type": "code",
      "source": [
        "data.drop(['Date_x', 'AED', 'Date_y','SAR', 'LBP', 'KWD', 'OMR', 'QAR','BHD', 'EGP', 'JOD'], axis=1, inplace=True)"
      ],
      "metadata": {
        "id": "o4JuMCtyxAY2"
      },
      "execution_count": null,
      "outputs": []
    },
    {
      "cell_type": "code",
      "source": [
        "data['Shipping Country'] = data['Shipping Country'].replace({'UAE': 'United Arab Emirates'})"
      ],
      "metadata": {
        "id": "EHLiC_PXnTyM"
      },
      "execution_count": null,
      "outputs": []
    },
    {
      "cell_type": "code",
      "source": [
        "data.Status.value_counts()"
      ],
      "metadata": {
        "id": "5AjDjPTeESsn",
        "colab": {
          "base_uri": "https://localhost:8080/"
        },
        "outputId": "fb45d95a-157c-43cf-b7a1-e19406c9193d"
      },
      "execution_count": null,
      "outputs": [
        {
          "output_type": "execute_result",
          "data": {
            "text/plain": [
              "Shipping                            21402\n",
              "Voided                               3694\n",
              "Pending                              2739\n",
              "Review Order (Sends Review Mail)      801\n",
              "Canceled (By Essmak)                  274\n",
              "Placed                                  2\n",
              "Name: Status, dtype: int64"
            ]
          },
          "metadata": {},
          "execution_count": 20
        }
      ]
    },
    {
      "cell_type": "code",
      "source": [
        "data = data[(data['Status'] == 'Review Order (Sends Review Mail)') | (data['Status'] == 'Shipping') | (data['Status'] == 'Placed')] "
      ],
      "metadata": {
        "id": "UWUKBtrLvRdj"
      },
      "execution_count": null,
      "outputs": []
    },
    {
      "cell_type": "code",
      "source": [
        "data.Status.value_counts()"
      ],
      "metadata": {
        "id": "eWfXfndoE_2o",
        "colab": {
          "base_uri": "https://localhost:8080/"
        },
        "outputId": "7d66b3b7-7e2e-4477-c32d-5bff7cb2ea78"
      },
      "execution_count": null,
      "outputs": [
        {
          "output_type": "execute_result",
          "data": {
            "text/plain": [
              "Shipping                            21402\n",
              "Review Order (Sends Review Mail)      801\n",
              "Placed                                  2\n",
              "Name: Status, dtype: int64"
            ]
          },
          "metadata": {},
          "execution_count": 22
        }
      ]
    },
    {
      "cell_type": "code",
      "source": [
        "data = data.rename(columns={'Cost Price_x': 'Cost Price', 'Product_x':'Product'}) \n",
        "data= pd.merge(data, ff, how='left', left_on = \"year\" , right_on = \"Year\")\n",
        "data['Franchise fees'] = data['Franchise fees'].str.replace('%', '').astype(float)\n",
        "data['Franchise fees_2'] = data['Franchise fees'] / 100\n",
        "data['Franchise_amount'] = data['Total'] * data['Franchise fees_2']\n",
        "\n",
        "df = pd.DataFrame(data)\n",
        "df['Total Cost'] = np.where(df['Cost Price'].isnull(), np.nan, df['Cost Price'] + df['Franchise_amount'])\n",
        "df['Profit'] = np.where(df['Cost Price'].isnull(), np.nan, df['Total'] - df['Total Cost'])"
      ],
      "metadata": {
        "id": "jIArtINOjIXI"
      },
      "execution_count": null,
      "outputs": []
    },
    {
      "cell_type": "code",
      "source": [
        "df=df.drop(['Platform','SKU Numbers', 'index', 'Year', 'Currency'], axis=1)\n",
        "df = df.rename(columns={'Date_x': 'Date', 'Franchise fees':'Franchise fees_percent', 'Franchise fees_2':'Franchise fees_2_percent','SKU number':'SKU number 2' })"
      ],
      "metadata": {
        "id": "hIr6H53IAt6b"
      },
      "execution_count": null,
      "outputs": []
    },
    {
      "cell_type": "code",
      "source": [
        "df['Flag'] = False \n",
        "df.loc[df['Model'].isin(['Address', 'Bed Sheets', 'Birthday Cards Invite', 'Birthday Party Bag', 'Boys Birthday Label', \n",
        "'Caricatures Christmas Labels', 'Chalk', 'Fingerprints Nursery', 'Fingerprints Nursery Value Pack', 'Garderie Europeenne', \n",
        "'German International School Dubai Value Pack', 'Gift Wrap', 'Girls Birthday Label', 'Green Grass Nursery', 'Happy Easter Bottles', \n",
        "'Happy Easter Lunch Pack', 'Hartland Value Pack', 'Hello Kitty Birthday Label', 'Holy Month of Ramadan', 'JESS Jumeirah Value Pack', \n",
        "'Jebel Ali School', 'Jebel Ali School  Value Pack', 'Jumeirah International Nursery', 'Jumeirah International Nursery Value Pack', \n",
        "'Jumeirah Nursery', 'Kitchen', 'Little Starz Nursery Value Pack', 'Madeleine Nursery', 'Madeleine Nursery Value Pack', 'Mirdif Value Pack', \n",
        "'Mr Men Little Miss Birthday Label', 'Notepads', 'Party Bag', 'Personalized Christmas Label', 'Placemats', 'SSCC Ain Najm', 'Sequin', \n",
        "'St Christopher’s School Value Pack','Starfish Lane Kids Nursery', 'Step by Step', 'Uniform', 'Wedding Label', 'Zut and Zoe Nursery']), 'Flag'] = True \n",
        "df = df[df['Flag'] == False]"
      ],
      "metadata": {
        "id": "9uxCjP2-eKnw"
      },
      "execution_count": null,
      "outputs": []
    },
    {
      "cell_type": "code",
      "source": [
        "df = df.drop(['Flag', 'Product Name', 'Product name'], axis=1) \n",
        "df = df.sort_values(['Product name ', 'Order Date'])"
      ],
      "metadata": {
        "id": "XZOhMuFTi81d"
      },
      "execution_count": null,
      "outputs": []
    },
    {
      "cell_type": "code",
      "source": [
        "scopes = ['https://www.googleapis.com/auth/spreadsheets', 'https://www.googleapis.com/auth/drive']\n",
        "json = '/content/drive/MyDrive/Essmak Data Work/Requirements/Credentials.json'\n",
        "credentials = Credentials.from_service_account_file(json, scopes=scopes)\n",
        "\n",
        "gc = gspread.authorize(credentials)\n",
        "\n",
        "gauth = GoogleAuth()\n",
        "\n",
        "drive = GoogleDrive(gauth)\n",
        "gs = gc.open_by_url('https://docs.google.com/spreadsheets/d/1I8NdsQyAWgI7p237Hj7OsBou56IA1wYUHrXvuOFRj6M/edit#gid=67394343')\n",
        "worksheet1=gs.worksheet('CRM')\n",
        "worksheet1.clear()\n",
        "set_with_dataframe(worksheet=worksheet1, dataframe=df, include_index=False,include_column_header=True, resize=True) "
      ],
      "metadata": {
        "id": "NEsHfZG7uVKW"
      },
      "execution_count": null,
      "outputs": []
    },
    {
      "cell_type": "markdown",
      "source": [
        "Cost Data"
      ],
      "metadata": {
        "id": "m6QpIMvTcJ7s"
      }
    },
    {
      "cell_type": "code",
      "source": [
        "df = gc.open_by_url(\"https://docs.google.com/spreadsheets/d/18wCjME5w01pB3TTIXcQaq1KnrtiTORrqkUHiNIzycZk/edit#gid=1339061491\")\n",
        "df = df.worksheet('Cost Sheet')\n",
        "df=pd.DataFrame(df.get_all_records()) \n",
        "hfc = gc.open_by_url(\"https://docs.google.com/spreadsheets/d/18wCjME5w01pB3TTIXcQaq1KnrtiTORrqkUHiNIzycZk/edit#gid=1935240915\")\n",
        "hfc = hfc.worksheet('Franchise Fee')\n",
        "hfc=pd.DataFrame(hfc.get_all_records())\n",
        "\n",
        "dff = df.groupby([\"year\", \"month\", \"Product\"])[\"Cost Price\"].mean().reset_index()\n",
        "hfc = hfc.pivot(index ='Year', columns = 'Platform', values = 'Franchise fees').reset_index()\n",
        "hfc[\"CRM\"] = hfc[\"CRM\"].str.strip(\"%\").astype(float) / 100.0\n",
        "hfc[\"Mumzworld\"] = hfc[\"Mumzworld\"].str.strip(\"%\").astype(float) / 100.0\n",
        "hfc[\"FirstCry\"] = hfc[\"FirstCry\"].str.strip(\"%\").astype(float) / 100.0\n",
        "df = dff.merge(hfc,left_on = 'year', right_on = 'Year', suffixes=('_left', '_right'))\n",
        "df['CRM_Cost_Price'] = (df['Cost Price'] * df['CRM']) + df['Cost Price']\n",
        "df['FC_Cost_Price'] = (df['Cost Price'] * df['FirstCry']) + df['Cost Price']\n",
        "df['MZ_Cost_Price'] = (df['Cost Price'] * df['Mumzworld']) + df['Cost Price']\n",
        "\n",
        "\n",
        "gs = gc.open_by_url('https://docs.google.com/spreadsheets/d/1I8NdsQyAWgI7p237Hj7OsBou56IA1wYUHrXvuOFRj6M/edit#gid=1233344084')\n",
        "worksheet1=gs.worksheet('Cost Data')\n",
        "worksheet1.clear()\n",
        "set_with_dataframe(worksheet=worksheet1, dataframe=df, include_index=False,include_column_header=True, resize=True) "
      ],
      "metadata": {
        "id": "o15XiDeXYqQI"
      },
      "execution_count": 29,
      "outputs": []
    },
    {
      "cell_type": "code",
      "source": [],
      "metadata": {
        "id": "0j4eaKwymCJm"
      },
      "execution_count": null,
      "outputs": []
    }
  ],
  "metadata": {
    "colab": {
      "provenance": [],
      "authorship_tag": "ABX9TyNpSmw+WOS3XdpmyOQfxOfM",
      "include_colab_link": true
    },
    "kernelspec": {
      "display_name": "Python 3",
      "name": "python3"
    },
    "language_info": {
      "name": "python"
    },
    "gpuClass": "standard"
  },
  "nbformat": 4,
  "nbformat_minor": 0
}