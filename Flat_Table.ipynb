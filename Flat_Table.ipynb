{
  "nbformat": 4,
  "nbformat_minor": 0,
  "metadata": {
    "colab": {
      "provenance": [],
      "authorship_tag": "ABX9TyNznBqfclM5+2RcoanwirEq",
      "include_colab_link": true
    },
    "kernelspec": {
      "name": "python3",
      "display_name": "Python 3"
    },
    "language_info": {
      "name": "python"
    }
  },
  "cells": [
    {
      "cell_type": "markdown",
      "metadata": {
        "id": "view-in-github",
        "colab_type": "text"
      },
      "source": [
        "<a href=\"https://colab.research.google.com/github/Stephanieessmak/database/blob/main/Flat_Table.ipynb\" target=\"_parent\"><img src=\"https://colab.research.google.com/assets/colab-badge.svg\" alt=\"Open In Colab\"/></a>"
      ]
    },
    {
      "cell_type": "code",
      "execution_count": null,
      "metadata": {
        "id": "VGGC8QaoooIE",
        "colab": {
          "base_uri": "https://localhost:8080/"
        },
        "outputId": "b87ea446-910b-4840-bd6c-ab4679384e04"
      },
      "outputs": [
        {
          "output_type": "stream",
          "name": "stdout",
          "text": [
            "Mounted at /content/drive\n"
          ]
        }
      ],
      "source": [
        "# import libraries\n",
        "import pandas as pd\n",
        "pd.set_option('display.max_columns', None)\n",
        "import numpy as np\n",
        "from pathlib import Path\n",
        "import datetime\n",
        "import io\n",
        "import gspread\n",
        "from gspread_dataframe import set_with_dataframe\n",
        "from google.oauth2.service_account import Credentials\n",
        "from pydrive.auth import GoogleAuth\n",
        "from pydrive.drive import GoogleDrive\n",
        "from itertools import repeat\n",
        "import warnings\n",
        "from google.colab import drive\n",
        "drive.mount('/content/drive')\n",
        "warnings.filterwarnings('ignore') "
      ]
    },
    {
      "cell_type": "code",
      "source": [
        "scopes = ['https://www.googleapis.com/auth/spreadsheets', 'https://www.googleapis.com/auth/drive']\n",
        "json = '/content/drive/MyDrive/Essmak Data Work/Requirements/Credentials.json'\n",
        "credentials = Credentials.from_service_account_file(json, scopes=scopes)\n",
        "\n",
        "gc = gspread.authorize(credentials)\n",
        "\n",
        "gauth = GoogleAuth()\n",
        "drive = GoogleDrive(gauth)"
      ],
      "metadata": {
        "id": "aTn_1rXgvAXP"
      },
      "execution_count": null,
      "outputs": []
    },
    {
      "cell_type": "code",
      "source": [
        "df = gc.open_by_url(\"https://docs.google.com/spreadsheets/d/1I8NdsQyAWgI7p237Hj7OsBou56IA1wYUHrXvuOFRj6M/edit#gid=67394343\")\n",
        "crm = df.worksheet('CRM')\n",
        "crm=pd.DataFrame(crm.get_all_records()) \n",
        "\n",
        "fc = df.worksheet('FirstCry')\n",
        "fc=pd.DataFrame(fc.get_all_records()) \n",
        "\n",
        "mw = df.worksheet('Mumzworld')\n",
        "mw=pd.DataFrame(mw.get_all_records())"
      ],
      "metadata": {
        "id": "78l1oIaRovDV"
      },
      "execution_count": null,
      "outputs": []
    },
    {
      "cell_type": "code",
      "source": [
        "# for crm - product category changed to product name\n",
        "fc=fc[['Order Date', 'Total USD', \"Order Id's\", 'Qty', 'Style Code','Country' ,'day', 'month', 'year',\"Icon Category\", \"Product name \",\"Product Name FYI\",\n",
        "          \"Product_Category\",\"Product SKU\",\"Product\",\"Cost Price\",  'Franchise fees_percent',\t'Franchise fees_2_percent',  \"Franchise_amount\",\"Total Cost\", \"Profit\"]]\n",
        "mw = mw[['Date',  'Total USD','PO Number', 'Order Qty', 'MW SKU','Country' ,'day', 'month', 'year',  \"Icon Category\", \"Product name \",\"Product Name FYI\",\n",
        "         \"Product_Category\",\"Product SKU\",\"Product\",\"Cost Price\",'Franchise fees_percent',\t'Franchise fees_2_percent', \"Franchise_amount\",\"Total Cost\", \"Profit\"]]\n",
        "crm = crm[['Order Date', 'Total', 'Order ID', 'Quantity', 'SKU Name', 'Shipping Country', 'day', 'month', 'year', \"Icon Category\", \"Product name \",\"Product Name FYI\",\n",
        "          \"Product_Category\",\"Product SKU\",\"Product\",\"Cost Price\",'Franchise fees_percent',\t'Franchise fees_2_percent', \"Franchise_amount\",\"Total Cost\", \"Profit\" ]] "
      ],
      "metadata": {
        "id": "Fjj0-_J5o1yw"
      },
      "execution_count": null,
      "outputs": []
    },
    {
      "cell_type": "code",
      "source": [
        "column_indices = [0,1,2,3,4,5,6,7,8,9,10, 11,12,13,14,15,16,17,18,19,20]\n",
        "new_names = ['Order Date', 'Total_amount', 'Order ID', 'Quantity', 'Product SKU Source','Country' ,'day', 'month', 'year', \"Icon Category\", \"Product name \",\"Product Name FYI\",\n",
        "             \"Product_Category\",\"Product SKU\",\"Product\",\"Cost Price\",'Franchise fees_percent',\t'Franchise fees_2_percent', \"Franchise_amount\",\"Total Cost\", \"Profit\"]\n",
        "old_names = fc.columns[column_indices]\n",
        "fc.rename(columns=dict(zip(old_names, new_names)), inplace=True)"
      ],
      "metadata": {
        "id": "FIG_gPpHo3w7"
      },
      "execution_count": null,
      "outputs": []
    },
    {
      "cell_type": "code",
      "source": [
        "column_indices = [0,1,2,3,4,5,6,7,8,9,10, 11,12,13,14,15,16,17,18,19,20]\n",
        "new_names = ['Order Date', 'Total_amount', 'Order ID', 'Quantity', 'Product SKU Source', 'Country','day', 'month', 'year', \"Icon Category\", \"Product name \",\"Product Name FYI\",\n",
        "             \"Product_Category\",\"Product SKU\",\"Product\",\"Cost Price\",'Franchise fees_percent',\t'Franchise fees_2_percent', \"Franchise_amount\",\"Total Cost\", \"Profit\"]\n",
        "old_names = mw.columns[column_indices]\n",
        "mw.rename(columns=dict(zip(old_names, new_names)), inplace=True)"
      ],
      "metadata": {
        "id": "NxhpX-S_o5e9"
      },
      "execution_count": null,
      "outputs": []
    },
    {
      "cell_type": "code",
      "source": [
        "column_indices = [0,1,2,3,4,5,6,7,8,9,10, 11,12,13,14,15,16,17,18,19,20]\n",
        "new_names = ['Order Date', 'Total_amount', 'Order ID', 'Quantity', 'Product SKU Source', 'Country','day', 'month', 'year', \"Icon Category\", \"Product name \",\"Product Name FYI\",\n",
        "             \"Product_Category\",\"Product SKU\",\"Product\",\"Cost Price\",'Franchise fees_percent',\t'Franchise fees_2_percent', \"Franchise_amount\",\"Total Cost\", \"Profit\"]\n",
        "old_names = crm.columns[column_indices]\n",
        "crm.rename(columns=dict(zip(old_names, new_names)), inplace=True)"
      ],
      "metadata": {
        "id": "1LeRszOMo7Em"
      },
      "execution_count": null,
      "outputs": []
    },
    {
      "cell_type": "code",
      "source": [
        "Source = 'FirstCry'\n",
        "fc['Data_source'] = Source \n",
        "Source1 = 'Mumzworld'\n",
        "mw['Data_source'] = Source1 \n",
        "Source2 = 'CRM'\n",
        "crm['Data_source'] = Source2"
      ],
      "metadata": {
        "id": "P4S34NwIo8d6"
      },
      "execution_count": null,
      "outputs": []
    },
    {
      "cell_type": "code",
      "source": [
        "ft = crm.append(fc, ignore_index=True) "
      ],
      "metadata": {
        "id": "s0vdJ1MDo-KP"
      },
      "execution_count": null,
      "outputs": []
    },
    {
      "cell_type": "code",
      "source": [
        "ft = ft.append(mw, ignore_index=True )"
      ],
      "metadata": {
        "id": "TJpSVvcb-j0N"
      },
      "execution_count": null,
      "outputs": []
    },
    {
      "cell_type": "code",
      "source": [
        "ft['Order ID']= ft['Data_source'].astype(str) +\"-\"+ ft[\"Order ID\"].astype(str)"
      ],
      "metadata": {
        "id": "3haJKG2fozp4"
      },
      "execution_count": null,
      "outputs": []
    },
    {
      "cell_type": "code",
      "source": [
        "ft.info()"
      ],
      "metadata": {
        "colab": {
          "base_uri": "https://localhost:8080/"
        },
        "id": "jtM0f9xqAbvN",
        "outputId": "7400f324-76cd-418d-f3cf-07dbc0b82f2f"
      },
      "execution_count": null,
      "outputs": [
        {
          "output_type": "stream",
          "name": "stdout",
          "text": [
            "<class 'pandas.core.frame.DataFrame'>\n",
            "RangeIndex: 33328 entries, 0 to 33327\n",
            "Data columns (total 22 columns):\n",
            " #   Column                    Non-Null Count  Dtype  \n",
            "---  ------                    --------------  -----  \n",
            " 0   Order Date                33328 non-null  object \n",
            " 1   Total_amount              33328 non-null  object \n",
            " 2   Order ID                  33328 non-null  object \n",
            " 3   Quantity                  33328 non-null  int64  \n",
            " 4   Product SKU Source        33328 non-null  object \n",
            " 5   Country                   33328 non-null  object \n",
            " 6   day                       33328 non-null  int64  \n",
            " 7   month                     33328 non-null  int64  \n",
            " 8   year                      33328 non-null  int64  \n",
            " 9   Icon Category             33328 non-null  object \n",
            " 10  Product name              33328 non-null  object \n",
            " 11  Product Name FYI          33328 non-null  object \n",
            " 12  Product_Category          33328 non-null  object \n",
            " 13  Product SKU               33328 non-null  object \n",
            " 14  Product                   33328 non-null  object \n",
            " 15  Cost Price                33328 non-null  object \n",
            " 16  Franchise fees_percent    33328 non-null  int64  \n",
            " 17  Franchise fees_2_percent  33328 non-null  float64\n",
            " 18  Franchise_amount          33328 non-null  object \n",
            " 19  Total Cost                33328 non-null  object \n",
            " 20  Profit                    33328 non-null  object \n",
            " 21  Data_source               33328 non-null  object \n",
            "dtypes: float64(1), int64(5), object(16)\n",
            "memory usage: 5.6+ MB\n"
          ]
        }
      ]
    },
    {
      "cell_type": "code",
      "source": [
        "gs = gc.open_by_url('https://docs.google.com/spreadsheets/d/1I8NdsQyAWgI7p237Hj7OsBou56IA1wYUHrXvuOFRj6M/edit#gid=67394343')\n",
        "worksheet2 = gs.worksheet('Flat_Table')\n",
        "worksheet2.clear()\n",
        "set_with_dataframe(worksheet=worksheet2, dataframe=ft, include_index=False,include_column_header=True, resize=True) "
      ],
      "metadata": {
        "id": "t7icAxu-uTzD"
      },
      "execution_count": null,
      "outputs": []
    },
    {
      "cell_type": "code",
      "source": [],
      "metadata": {
        "id": "5sq3ZGoP3nN8"
      },
      "execution_count": null,
      "outputs": []
    }
  ]
}